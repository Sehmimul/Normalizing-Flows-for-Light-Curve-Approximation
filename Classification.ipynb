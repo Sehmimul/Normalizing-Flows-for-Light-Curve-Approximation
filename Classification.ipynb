{
 "cells": [
  {
   "cell_type": "code",
   "execution_count": 3,
   "metadata": {},
   "outputs": [
    {
     "name": "stdout",
     "output_type": "stream",
     "text": [
      "NF\n",
      "1870\n"
     ]
    },
    {
     "ename": "KeyboardInterrupt",
     "evalue": "",
     "output_type": "error",
     "traceback": [
      "\u001b[0;31m---------------------------------------------------------------------------\u001b[0m",
      "\u001b[0;31mKeyboardInterrupt\u001b[0m                         Traceback (most recent call last)",
      "Cell \u001b[0;32mIn [3], line 4\u001b[0m\n\u001b[1;32m      1\u001b[0m \u001b[39mimport\u001b[39;00m \u001b[39mclassification\u001b[39;00m\n\u001b[1;32m      2\u001b[0m \u001b[39m# from classification import classification\u001b[39;00m\n\u001b[0;32m----> 4\u001b[0m classification\u001b[39m.\u001b[39;49mclassification()\n",
      "File \u001b[0;32m~/Documents/GitHub/Final_Project/classification.py:263\u001b[0m, in \u001b[0;36mclassification\u001b[0;34m(model_name, n_obs, n_epoches)\u001b[0m\n\u001b[1;32m    259\u001b[0m \u001b[39m# outputs = Parallel(n_jobs=-1)(delayed(aug_one)(model, name) for name in df_all['object_id'].unique())\u001b[39;00m\n\u001b[1;32m    261\u001b[0m \u001b[39mprint\u001b[39m(\u001b[39mlen\u001b[39m(\u001b[39mlist\u001b[39m(df_all[\u001b[39m'\u001b[39m\u001b[39mobject_id\u001b[39m\u001b[39m'\u001b[39m]\u001b[39m.\u001b[39munique())))\n\u001b[0;32m--> 263\u001b[0m outputs \u001b[39m=\u001b[39m [aug_one(model, name) \u001b[39mfor\u001b[39;00m name \u001b[39min\u001b[39;00m df_all[\u001b[39m'\u001b[39m\u001b[39mobject_id\u001b[39m\u001b[39m'\u001b[39m]\u001b[39m.\u001b[39munique()]\n\u001b[1;32m    265\u001b[0m \u001b[39mprint\u001b[39m(\u001b[39m\"\u001b[39m\u001b[39mgot outputs\u001b[39m\u001b[39m\"\u001b[39m)\n\u001b[1;32m    267\u001b[0m directory \u001b[39m=\u001b[39m os\u001b[39m.\u001b[39mpath\u001b[39m.\u001b[39mdirname(\u001b[39m__file__\u001b[39m)\n",
      "File \u001b[0;32m~/Documents/GitHub/Final_Project/classification.py:263\u001b[0m, in \u001b[0;36m<listcomp>\u001b[0;34m(.0)\u001b[0m\n\u001b[1;32m    259\u001b[0m \u001b[39m# outputs = Parallel(n_jobs=-1)(delayed(aug_one)(model, name) for name in df_all['object_id'].unique())\u001b[39;00m\n\u001b[1;32m    261\u001b[0m \u001b[39mprint\u001b[39m(\u001b[39mlen\u001b[39m(\u001b[39mlist\u001b[39m(df_all[\u001b[39m'\u001b[39m\u001b[39mobject_id\u001b[39m\u001b[39m'\u001b[39m]\u001b[39m.\u001b[39munique())))\n\u001b[0;32m--> 263\u001b[0m outputs \u001b[39m=\u001b[39m [aug_one(model, name) \u001b[39mfor\u001b[39;00m name \u001b[39min\u001b[39;00m df_all[\u001b[39m'\u001b[39m\u001b[39mobject_id\u001b[39m\u001b[39m'\u001b[39m]\u001b[39m.\u001b[39munique()]\n\u001b[1;32m    265\u001b[0m \u001b[39mprint\u001b[39m(\u001b[39m\"\u001b[39m\u001b[39mgot outputs\u001b[39m\u001b[39m\"\u001b[39m)\n\u001b[1;32m    267\u001b[0m directory \u001b[39m=\u001b[39m os\u001b[39m.\u001b[39mpath\u001b[39m.\u001b[39mdirname(\u001b[39m__file__\u001b[39m)\n",
      "File \u001b[0;32m~/Documents/GitHub/Final_Project/classification.py:184\u001b[0m, in \u001b[0;36maug_one\u001b[0;34m(model, name)\u001b[0m\n\u001b[1;32m    181\u001b[0m good_id \u001b[39m=\u001b[39m name\n\u001b[1;32m    182\u001b[0m anobject \u001b[39m=\u001b[39m get_object(df_all, good_id)\n\u001b[0;32m--> 184\u001b[0m model\u001b[39m.\u001b[39;49mfit(anobject[\u001b[39m'\u001b[39;49m\u001b[39mmjd\u001b[39;49m\u001b[39m'\u001b[39;49m]\u001b[39m.\u001b[39;49mvalues, anobject[\u001b[39m'\u001b[39;49m\u001b[39mflux\u001b[39;49m\u001b[39m'\u001b[39;49m]\u001b[39m.\u001b[39;49mvalues, anobject[\u001b[39m'\u001b[39;49m\u001b[39mflux_err\u001b[39;49m\u001b[39m'\u001b[39;49m]\u001b[39m.\u001b[39;49mvalues, anobject[\u001b[39m'\u001b[39;49m\u001b[39mpassband\u001b[39;49m\u001b[39m'\u001b[39;49m]\u001b[39m.\u001b[39;49mvalues)\n\u001b[1;32m    186\u001b[0m t_aug, flux_aug, flux_err_aug, passband_aug \u001b[39m=\u001b[39m model\u001b[39m.\u001b[39maugmentation(anobject[\u001b[39m'\u001b[39m\u001b[39mmjd\u001b[39m\u001b[39m'\u001b[39m]\u001b[39m.\u001b[39mmin(), \n\u001b[1;32m    187\u001b[0m                                                              anobject[\u001b[39m'\u001b[39m\u001b[39mmjd\u001b[39m\u001b[39m'\u001b[39m]\u001b[39m.\u001b[39mmax(), n_obs\u001b[39m=\u001b[39mN_OBS)\n\u001b[1;32m    189\u001b[0m anobject_aug \u001b[39m=\u001b[39m compile_obj(t_aug, flux_aug, flux_err_aug, passband_aug)\n",
      "File \u001b[0;32m~/Documents/GitHub/Final_Project/lib/python3.10/site-packages/fulu/nf_aug.py:294\u001b[0m, in \u001b[0;36mNormalizingFlowAugmentation.fit\u001b[0;34m(self, t, flux, flux_err, passband)\u001b[0m\n\u001b[1;32m    281\u001b[0m X_ss \u001b[39m=\u001b[39m \u001b[39mself\u001b[39m\u001b[39m.\u001b[39mss\u001b[39m.\u001b[39mfit_transform(X)\n\u001b[1;32m    283\u001b[0m \u001b[39mself\u001b[39m\u001b[39m.\u001b[39mreg \u001b[39m=\u001b[39m NFFitter(\n\u001b[1;32m    284\u001b[0m     var_size\u001b[39m=\u001b[39m\u001b[39m2\u001b[39m,\n\u001b[1;32m    285\u001b[0m     cond_size\u001b[39m=\u001b[39m\u001b[39m2\u001b[39m,\n\u001b[0;32m   (...)\u001b[0m\n\u001b[1;32m    292\u001b[0m     weight_decay\u001b[39m=\u001b[39m\u001b[39mself\u001b[39m\u001b[39m.\u001b[39mweight_decay,\n\u001b[1;32m    293\u001b[0m )\n\u001b[0;32m--> 294\u001b[0m \u001b[39mself\u001b[39;49m\u001b[39m.\u001b[39;49mreg\u001b[39m.\u001b[39;49mfit(X_ss, flux, flux_err)\n\u001b[1;32m    296\u001b[0m \u001b[39mreturn\u001b[39;00m \u001b[39mself\u001b[39m\n",
      "File \u001b[0;32m~/Documents/GitHub/Final_Project/lib/python3.10/site-packages/fulu/nf_aug.py:183\u001b[0m, in \u001b[0;36mNFFitter.fit\u001b[0;34m(self, X, y, y_std)\u001b[0m\n\u001b[1;32m    180\u001b[0m     x_batch \u001b[39m=\u001b[39m torch\u001b[39m.\u001b[39mcat((x_batch, noise), dim\u001b[39m=\u001b[39m\u001b[39m1\u001b[39m)\n\u001b[1;32m    182\u001b[0m \u001b[39m# caiculate loss\u001b[39;00m\n\u001b[0;32m--> 183\u001b[0m loss \u001b[39m=\u001b[39m \u001b[39m-\u001b[39m\u001b[39mself\u001b[39;49m\u001b[39m.\u001b[39;49mnf\u001b[39m.\u001b[39;49mlog_prob(y_batch, x_batch)\n\u001b[1;32m    185\u001b[0m \u001b[39m# optimization step\u001b[39;00m\n\u001b[1;32m    186\u001b[0m \u001b[39mself\u001b[39m\u001b[39m.\u001b[39mopt\u001b[39m.\u001b[39mzero_grad()\n",
      "File \u001b[0;32m~/Documents/GitHub/Final_Project/lib/python3.10/site-packages/fulu/nf_aug.py:37\u001b[0m, in \u001b[0;36mNormalizingFlow.log_prob\u001b[0;34m(self, x, y)\u001b[0m\n\u001b[1;32m     34\u001b[0m log_likelihood \u001b[39m=\u001b[39m \u001b[39mNone\u001b[39;00m\n\u001b[1;32m     36\u001b[0m \u001b[39mfor\u001b[39;00m layer \u001b[39min\u001b[39;00m \u001b[39mself\u001b[39m\u001b[39m.\u001b[39mlayers:\n\u001b[0;32m---> 37\u001b[0m     x, change \u001b[39m=\u001b[39m layer\u001b[39m.\u001b[39;49mf(x, y)\n\u001b[1;32m     38\u001b[0m     \u001b[39mif\u001b[39;00m log_likelihood \u001b[39mis\u001b[39;00m \u001b[39mnot\u001b[39;00m \u001b[39mNone\u001b[39;00m:\n\u001b[1;32m     39\u001b[0m         log_likelihood \u001b[39m=\u001b[39m log_likelihood \u001b[39m+\u001b[39m change\n",
      "File \u001b[0;32m~/Documents/GitHub/Final_Project/lib/python3.10/site-packages/fulu/nf_aug.py:79\u001b[0m, in \u001b[0;36mRealNVP.f\u001b[0;34m(self, x, y)\u001b[0m\n\u001b[1;32m     72\u001b[0m \u001b[39mdef\u001b[39;00m \u001b[39mf\u001b[39m(\u001b[39mself\u001b[39m, x, y):\n\u001b[1;32m     73\u001b[0m     \u001b[39m\"\"\"\u001b[39;00m\n\u001b[1;32m     74\u001b[0m \u001b[39m    x: torch.Tensor of shape [batch_size, var_size]\u001b[39;00m\n\u001b[1;32m     75\u001b[0m \u001b[39m        Data\u001b[39;00m\n\u001b[1;32m     76\u001b[0m \u001b[39m    y: torch.Tensor of shape [batch_size, cond_size]\u001b[39;00m\n\u001b[1;32m     77\u001b[0m \u001b[39m        Condition\u001b[39;00m\n\u001b[1;32m     78\u001b[0m \u001b[39m    \"\"\"\u001b[39;00m\n\u001b[0;32m---> 79\u001b[0m     xy \u001b[39m=\u001b[39m torch\u001b[39m.\u001b[39;49mcat((x \u001b[39m*\u001b[39;49m \u001b[39mself\u001b[39;49m\u001b[39m.\u001b[39;49mmask[\u001b[39mNone\u001b[39;49;00m, :], y), dim\u001b[39m=\u001b[39;49m\u001b[39m1\u001b[39;49m)\n\u001b[1;32m     80\u001b[0m     t \u001b[39m=\u001b[39m \u001b[39mself\u001b[39m\u001b[39m.\u001b[39mnn_t(xy)\n\u001b[1;32m     81\u001b[0m     s \u001b[39m=\u001b[39m \u001b[39mself\u001b[39m\u001b[39m.\u001b[39mnn_s(xy)\n",
      "\u001b[0;31mKeyboardInterrupt\u001b[0m: "
     ]
    }
   ],
   "source": [
    "import classification\n",
    "# from classification import classification\n",
    "from importlib import reload\n",
    "reload(classification)\n",
    "import classification\n",
    "# from classification import classification\n",
    "\n",
    "classification.classification(model_name = 'NF')\n"
   ]
  }
 ],
 "metadata": {
  "kernelspec": {
   "display_name": "Python 3.10.6 ('Final_Project': venv)",
   "language": "python",
   "name": "python3"
  },
  "language_info": {
   "codemirror_mode": {
    "name": "ipython",
    "version": 3
   },
   "file_extension": ".py",
   "mimetype": "text/x-python",
   "name": "python",
   "nbconvert_exporter": "python",
   "pygments_lexer": "ipython3",
   "version": "3.10.6"
  },
  "orig_nbformat": 4,
  "vscode": {
   "interpreter": {
    "hash": "f2152721c61c37c8a035956e554eaac0bb54de7bfbd6a2152ab894f98def2ba7"
   }
  }
 },
 "nbformat": 4,
 "nbformat_minor": 2
}
